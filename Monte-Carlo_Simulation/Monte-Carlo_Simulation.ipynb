{
 "cells": [
  {
   "cell_type": "markdown",
   "metadata": {},
   "source": [
    "<font color='maroon'>**History**</font>\n",
    "\n",
    "Monte Carlo is a place situated in Monacco, famous for Monte Carlo Casino. The concept was invented by the Polish American mathematician, Stanislaw Ulam. He was ill, recovering from some serious illness, and was home and was bored and was playing a lot of games of solitaire. Being a mathematician, he naturally wondered, what's the probability of my winning this stupid game which I keep losing?\n",
    "\n",
    "He actually spent quite a lot of time trying to work out the combinatorics, so that he could actually compute the probability. Despite being a really amazing mathematician, he failed. The combinatorics were just too complicated.\n",
    "\n",
    "He thought that he will just play lots of hands and count the number he win, divide by the number of hands he played. Well then he thought about it and said, well, he've already played a lot of hands and haven't won yet. So it probably will take him years to play enough hands to actually get a good estimate, and he don't want to do that.\n",
    "\n",
    "So, instead of playing the game, he just simulated the game on a computer. He took help of his friend John von Neumann(inventor of stored program computer). He asked to simulate the problem on ENIAC(Electronic Numerical Integrator And Computer) machine. \n",
    "\n",
    "Related to ENIAC's role in the hydrogen bomb was its role in the Monte Carlo method becoming popular. Scientists involved in the original nuclear bomb development used massive groups of people doing huge numbers of calculations (\"computers\" in the terminology of the time) to investigate the distance that neutrons would likely travel through various materials. John von Neumann and Stanislaw Ulam realized the speed of ENIAC would allow these calculations to be done much more quickly.The success of this project showed the value of Monte Carlo methods in science"
   ]
  },
  {
   "cell_type": "markdown",
   "metadata": {},
   "source": [
    "<font color='maroon'>**Definition**</font>\n",
    "\n",
    "It's a method of estimating the values of an unknown quantity using what is called inferential statistics. \n",
    "\n",
    "The key concepts are the population. We take a sample by drawing a proper subset. Usually more than one sample to be useful. And then we make an inference about the population based upon some set of statistics we do on the sample. \n",
    "\n",
    "The key fact which makes this whole comcept work is that if we choose the sample at random, the sample will tend to exhibit the same properties as the population from which it is drawn.\n",
    "\n",
    "**General Logic explanation** There were a very large number of different random walks you could take of say, 10,000 steps. We do not look at all possible random walks of 10,000 steps. We drew a small sample of, say 100 such walks, computed the mean of those 100, and said, we think that's probably a good expectation of what the mean would be of all the possible walks of 10,000 steps. So we were depending upon this principle.\n",
    "\n",
    "The most important key fact here is that the sample has to be random."
   ]
  },
  {
   "cell_type": "markdown",
   "metadata": {},
   "source": [
    "<font color='maroon'>**Coin Flip Example**</font>\n",
    "\n",
    "We've got one coin flip, and it came up heads. \n",
    "\n",
    "**Question 1: Infinite flips, how confident would you be about answering that all infinite flips would be heads?** \n",
    "\n",
    "Maybe or Maybe not\n",
    "\n",
    "**Question 2: One flip-Heads, how confident would you be that the next flip would be heads?**\n",
    "\n",
    "Maybe or Maybe not\n",
    "\n",
    "**Question 3: 2 Flips-Both heads. Do you think that the next flip is likely to be heads?**\n",
    "\n",
    "Its only fliped 2 times. So can not be so sure\n",
    "\n",
    "**Question 4: 100 flips-All heads. 101th flip?**\n",
    "\n",
    "Now I will be a little more confident in assuming that the next one could be heads\n",
    "\n",
    "**Question 5: 100 flips- 52 heads and 48 tails. Last two were heads. Then 101th flip?**\n",
    "\n",
    "If have to guess, then 52/100 is heads. That's the best we can do. \n",
    "\n",
    "**Conclusion:** Typically our best guess is what we've seen, but we really shouldn't have very much confidence in that guess. Anything can come."
   ]
  },
  {
   "cell_type": "markdown",
   "metadata": {},
   "source": [
    "<font color='violet'>**So why when we see 100 samples and they all come up heads, do we feel better about guessing heads for the 101st than we did when we saw two samples? And why don't we feel so good about guessing 52 out of 100 when we've seen a hundred flips that came out 52 and 48?**</font>\n",
    "\n",
    "The answer is variance. When I had all heads, there was no variability. I got the same answer all the time. And so there was no variability, and that intuitively-- and in fact, mathematically-- should make us feel confident that, maybe that's really the way the world is.\n",
    "\n",
    "On the other hand, when almost half are heads and almost half are tails, there's a lot of variance. It's hard to predict what the next one will be. And so we should have very little confidence that it isn't an accident that it happened to be 52-48 in one direction."
   ]
  },
  {
   "cell_type": "markdown",
   "metadata": {},
   "source": [
    "<font color='red'>**Note- \"As the variance grows, we need larger samples to have the same amount of confidence.\"**</font>"
   ]
  },
  {
   "cell_type": "markdown",
   "metadata": {},
   "source": [
    "<font color='maroon'>**Roullete Example**</font>\n",
    "\n",
    "**Game rule:** Roullete has a wheel with pockets having different numbers and colors. Person bet about the number and the color beforehand and the same guess comes, person wins. "
   ]
  },
  {
   "cell_type": "code",
   "execution_count": 22,
   "metadata": {},
   "outputs": [],
   "source": [
    "import random"
   ]
  },
  {
   "cell_type": "code",
   "execution_count": 37,
   "metadata": {},
   "outputs": [],
   "source": [
    "#roulette with only number betting, not betting on color\n",
    "class FairRoulette():\n",
    "    def _init_(self):\n",
    "        self.pockets = []\n",
    "        for i in range(1,37):  #setting up wheel with 36 pockets, can bet on numbers between 1 and 36\n",
    "            self.pockets.append(i)\n",
    "        self.ball = None  #unknown initially position\n",
    "        self.pocketOdds = len(self.pockets)-1  #odds based on the bet made\n",
    "    #spinning\n",
    "    def spin(self):\n",
    "        self.ball = random.choice(self.pockets) #self dot spin will be random dot choice among the pockets\n",
    "    #betting- can choose an amount to bet and the pocket, want to bet on\n",
    "    def betPocket(self,pockets,amt):\n",
    "        if str(pockets) == str(self.ball):\n",
    "            return amt*self.pocketOdds\n",
    "        else: return -amt\n",
    "    def _str_(self):\n",
    "        return 'Fair Roulette'"
   ]
  },
  {
   "cell_type": "code",
   "execution_count": 41,
   "metadata": {
    "scrolled": false
   },
   "outputs": [
    {
     "name": "stdout",
     "output_type": "stream",
     "text": [
      "100 spins of <__main__.FairRoulette object at 0x10b0ca358>\n",
      "Expected return betting: 2 =-100.0%\n",
      "\n",
      "100 spins of <__main__.FairRoulette object at 0x10b0ca358>\n",
      "Expected return betting: 2 =44.0%\n",
      "\n",
      "100 spins of <__main__.FairRoulette object at 0x10b0ca358>\n",
      "Expected return betting: 2 =-28.0%\n",
      "\n",
      "100 spins of <__main__.FairRoulette object at 0x10b0ca358>\n",
      "Expected return betting: 2 =-64.0%\n",
      "\n",
      "100 spins of <__main__.FairRoulette object at 0x10b0ca358>\n",
      "Expected return betting: 2 =-28.0%\n",
      "\n",
      "1000000 spins of <__main__.FairRoulette object at 0x10b0ca358>\n",
      "Expected return betting: 2 =-0.0316%\n",
      "\n",
      "1000000 spins of <__main__.FairRoulette object at 0x10b0ca358>\n",
      "Expected return betting: 2 =0.5984%\n",
      "\n",
      "1000000 spins of <__main__.FairRoulette object at 0x10b0ca358>\n",
      "Expected return betting: 2 =0.7856%\n",
      "\n",
      "1000000 spins of <__main__.FairRoulette object at 0x10b0ca358>\n",
      "Expected return betting: 2 =-0.4312%\n",
      "\n",
      "1000000 spins of <__main__.FairRoulette object at 0x10b0ca358>\n",
      "Expected return betting: 2 =0.3968%\n",
      "\n"
     ]
    }
   ],
   "source": [
    "def playRoulette(game,numSpins,pockets,bet,toPrint):\n",
    "    totPocket = 0\n",
    "    for i in range(numSpins):\n",
    "        game._init_()\n",
    "        game.spin()\n",
    "        totPocket += game.betPocket(pockets,bet)\n",
    "    if toPrint:\n",
    "        print(numSpins, 'spins of',game)\n",
    "        print('Expected return betting:', pockets, '='+str(100*totPocket/numSpins)+'%\\n')\n",
    "        return (totPocket/numSpins)\n",
    "\n",
    "random.seed(0)\n",
    "game = FairRoulette()\n",
    "for numSpins in (100,1000000):\n",
    "    for i in range(5):\n",
    "        playRoulette(game,numSpins,2,1,True)"
   ]
  },
  {
   "cell_type": "markdown",
   "metadata": {},
   "source": [
    "- With 100 spins, the results i.e. the expected value is highly variable, but that variability decreases when we increase the number of spins too much. \n",
    "- With million spins, the expected value is closer to zero. Although they not not fully zero but it is apparent that they are not far from each other i.e. very less variance"
   ]
  },
  {
   "cell_type": "markdown",
   "metadata": {},
   "source": [
    "<font color = 'maroon'> Law of Large Numbers / Bernoulli's Law: </font>\n",
    "\n",
    "In repeated independent tests with the same actual probability p of a outcome in each test, the chance that the fraction of times the outcome occurs differs from p converges to 0 as the number of trials goes to infinity.\n",
    "#the closer we get to the infinite, the closer we get to the true probability"
   ]
  },
  {
   "cell_type": "markdown",
   "metadata": {},
   "source": [
    "<font color = 'maroon'> Gambler's Fallacy </font>\n",
    "\n",
    "If the deviation from expected occur, it will be evened out in the future. \n",
    "\n",
    "Example: Black and Red in Monte Carlo Casino. Black keep coming so people kept betting on red that it will even out\n",
    "\n",
    "Probability of 26 consecuitve reds = 1/67,108,865\n",
    "Probability of 26 consecutive reds, when earlier 25 were red = 1/2  #because events are independent"
   ]
  },
  {
   "cell_type": "markdown",
   "metadata": {},
   "source": [
    "<font color = 'maroon'> Regression to the mean </font>\n",
    "\n",
    "Following an extreme random event, the next random event is likely to be less extreme\n",
    "\n",
    "Example: Hieght data. \n",
    "a) If both parents taller than average -> Children will be smaller than the average\n",
    "b) If both parents smaller than average -> Children will be taller than the average\n",
    "\n",
    "The more samples you take, you are more likely to move closer to the mean"
   ]
  },
  {
   "cell_type": "code",
   "execution_count": 44,
   "metadata": {},
   "outputs": [],
   "source": [
    "class EuroRoulette(FairRoulette):\n",
    "    def _init_(self):\n",
    "        FairRoulette._init_(self)\n",
    "        self.pockets.append('0')\n",
    "    def _str_(self):\n",
    "        return 'Europian Roulette'\n",
    "\n",
    "class AmRoullete(FairRoulette):\n",
    "    def _init_(self):\n",
    "        EuroRoulette._init_(self)\n",
    "        self.pockets.append('00')\n",
    "    def _str_(self):\n",
    "        return 'American Roulette'"
   ]
  },
  {
   "cell_type": "code",
   "execution_count": 45,
   "metadata": {},
   "outputs": [
    {
     "name": "stdout",
     "output_type": "stream",
     "text": [
      "100 spins of <__main__.EuroRoulette object at 0x10b0ca278>\n",
      "Expected return betting: 2 =-100.0%\n",
      "\n",
      "100 spins of <__main__.EuroRoulette object at 0x10b0ca278>\n",
      "Expected return betting: 2 =44.0%\n",
      "\n",
      "100 spins of <__main__.EuroRoulette object at 0x10b0ca278>\n",
      "Expected return betting: 2 =-28.0%\n",
      "\n",
      "100 spins of <__main__.EuroRoulette object at 0x10b0ca278>\n",
      "Expected return betting: 2 =-64.0%\n",
      "\n",
      "100 spins of <__main__.EuroRoulette object at 0x10b0ca278>\n",
      "Expected return betting: 2 =-28.0%\n",
      "\n",
      "1000000 spins of <__main__.EuroRoulette object at 0x10b0ca278>\n",
      "Expected return betting: 2 =-2.782%\n",
      "\n",
      "1000000 spins of <__main__.EuroRoulette object at 0x10b0ca278>\n",
      "Expected return betting: 2 =-2.0548%\n",
      "\n",
      "1000000 spins of <__main__.EuroRoulette object at 0x10b0ca278>\n",
      "Expected return betting: 2 =-2.3032%\n",
      "\n",
      "1000000 spins of <__main__.EuroRoulette object at 0x10b0ca278>\n",
      "Expected return betting: 2 =-2.6164%\n",
      "\n",
      "1000000 spins of <__main__.EuroRoulette object at 0x10b0ca278>\n",
      "Expected return betting: 2 =-2.3824%\n",
      "\n"
     ]
    }
   ],
   "source": [
    "def playRoulette(game,numSpins,pockets,bet,toPrint):\n",
    "    totPocket = 0\n",
    "    for i in range(numSpins):\n",
    "        game._init_()\n",
    "        game.spin()\n",
    "        totPocket += game.betPocket(pockets,bet)\n",
    "    if toPrint:\n",
    "        print(numSpins, 'spins of',game)\n",
    "        print('Expected return betting:', pockets, '='+str(100*totPocket/numSpins)+'%\\n')\n",
    "        return (totPocket/numSpins)\n",
    "\n",
    "random.seed(0)\n",
    "game = EuroRoulette()\n",
    "for numSpins in (100,1000000):\n",
    "    for i in range(5):\n",
    "        playRoulette(game,numSpins,2,1,True)"
   ]
  },
  {
   "cell_type": "code",
   "execution_count": 46,
   "metadata": {},
   "outputs": [
    {
     "name": "stdout",
     "output_type": "stream",
     "text": [
      "100 spins of <__main__.AmRoullete object at 0x10b0ca9e8>\n",
      "Expected return betting: 2 =-100.0%\n",
      "\n",
      "100 spins of <__main__.AmRoullete object at 0x10b0ca9e8>\n",
      "Expected return betting: 2 =44.0%\n",
      "\n",
      "100 spins of <__main__.AmRoullete object at 0x10b0ca9e8>\n",
      "Expected return betting: 2 =-28.0%\n",
      "\n",
      "100 spins of <__main__.AmRoullete object at 0x10b0ca9e8>\n",
      "Expected return betting: 2 =-64.0%\n",
      "\n",
      "100 spins of <__main__.AmRoullete object at 0x10b0ca9e8>\n",
      "Expected return betting: 2 =-28.0%\n",
      "\n",
      "1000000 spins of <__main__.AmRoullete object at 0x10b0ca9e8>\n",
      "Expected return betting: 2 =-5.5468%\n",
      "\n",
      "1000000 spins of <__main__.AmRoullete object at 0x10b0ca9e8>\n",
      "Expected return betting: 2 =-4.5028%\n",
      "\n",
      "1000000 spins of <__main__.AmRoullete object at 0x10b0ca9e8>\n",
      "Expected return betting: 2 =-4.672%\n",
      "\n",
      "1000000 spins of <__main__.AmRoullete object at 0x10b0ca9e8>\n",
      "Expected return betting: 2 =-5.3668%\n",
      "\n",
      "1000000 spins of <__main__.AmRoullete object at 0x10b0ca9e8>\n",
      "Expected return betting: 2 =-5.248%\n",
      "\n"
     ]
    }
   ],
   "source": [
    "def playRoulette(game,numSpins,pockets,bet,toPrint):\n",
    "    totPocket = 0\n",
    "    for i in range(numSpins):\n",
    "        game._init_()\n",
    "        game.spin()\n",
    "        totPocket += game.betPocket(pockets,bet)\n",
    "    if toPrint:\n",
    "        print(numSpins, 'spins of',game)\n",
    "        print('Expected return betting:', pockets, '='+str(100*totPocket/numSpins)+'%\\n')\n",
    "        return (totPocket/numSpins)\n",
    "\n",
    "random.seed(0)\n",
    "game = AmRoullete()\n",
    "for numSpins in (100,1000000):\n",
    "    for i in range(5):\n",
    "        playRoulette(game,numSpins,2,1,True)"
   ]
  },
  {
   "cell_type": "markdown",
   "metadata": {},
   "source": [
    "#standard deviation should always be looked in comparison to the mean"
   ]
  },
  {
   "cell_type": "code",
   "execution_count": 48,
   "metadata": {},
   "outputs": [
    {
     "name": "stdout",
     "output_type": "stream",
     "text": [
      "\n",
      "Simulate a betting for 20 trials of 100 spins each\n"
     ]
    },
    {
     "ename": "NameError",
     "evalue": "name 'findPocketReturn' is not defined",
     "output_type": "error",
     "traceback": [
      "\u001b[0;31m---------------------------------------------------------------------------\u001b[0m",
      "\u001b[0;31mNameError\u001b[0m                                 Traceback (most recent call last)",
      "\u001b[0;32m<ipython-input-48-6f90d8d975e6>\u001b[0m in \u001b[0;36m<module>\u001b[0;34m\u001b[0m\n\u001b[1;32m      8\u001b[0m     \u001b[0mprint\u001b[0m\u001b[0;34m(\u001b[0m\u001b[0;34m'\\nSimulate a betting for'\u001b[0m\u001b[0;34m,\u001b[0m \u001b[0mnumTrials\u001b[0m\u001b[0;34m,\u001b[0m \u001b[0;34m'trials of'\u001b[0m\u001b[0;34m,\u001b[0m \u001b[0mnumSpins\u001b[0m\u001b[0;34m,\u001b[0m \u001b[0;34m'spins each'\u001b[0m\u001b[0;34m)\u001b[0m\u001b[0;34m\u001b[0m\u001b[0;34m\u001b[0m\u001b[0m\n\u001b[1;32m      9\u001b[0m     \u001b[0;32mfor\u001b[0m \u001b[0mG\u001b[0m \u001b[0;32min\u001b[0m \u001b[0mgames\u001b[0m\u001b[0;34m:\u001b[0m\u001b[0;34m\u001b[0m\u001b[0;34m\u001b[0m\u001b[0m\n\u001b[0;32m---> 10\u001b[0;31m         \u001b[0mpocketReturns\u001b[0m \u001b[0;34m=\u001b[0m \u001b[0mfindPocketReturn\u001b[0m\u001b[0;34m(\u001b[0m\u001b[0mG\u001b[0m\u001b[0;34m(\u001b[0m\u001b[0;34m)\u001b[0m\u001b[0;34m,\u001b[0m\u001b[0;36m20\u001b[0m\u001b[0;34m,\u001b[0m\u001b[0mnumSpins\u001b[0m\u001b[0;34m,\u001b[0m \u001b[0;32mFalse\u001b[0m\u001b[0;34m)\u001b[0m\u001b[0;34m\u001b[0m\u001b[0;34m\u001b[0m\u001b[0m\n\u001b[0m\u001b[1;32m     11\u001b[0m         \u001b[0mmean\u001b[0m\u001b[0;34m,\u001b[0m \u001b[0mstd\u001b[0m \u001b[0;34m=\u001b[0m \u001b[0mgetMeanAndStd\u001b[0m\u001b[0;34m(\u001b[0m\u001b[0mpocketReturns\u001b[0m\u001b[0;34m)\u001b[0m\u001b[0;34m\u001b[0m\u001b[0;34m\u001b[0m\u001b[0m\n\u001b[1;32m     12\u001b[0m         \u001b[0mresultDict\u001b[0m\u001b[0;34m[\u001b[0m\u001b[0mG\u001b[0m\u001b[0;34m(\u001b[0m\u001b[0;34m)\u001b[0m\u001b[0;34m.\u001b[0m\u001b[0m_str_\u001b[0m\u001b[0;34m(\u001b[0m\u001b[0;34m)\u001b[0m\u001b[0;34m]\u001b[0m\u001b[0;34m.\u001b[0m\u001b[0mappend\u001b[0m\u001b[0;34m(\u001b[0m\u001b[0;34m(\u001b[0m\u001b[0mnumSpins\u001b[0m\u001b[0;34m,\u001b[0m \u001b[0;36m100\u001b[0m\u001b[0;34m*\u001b[0m\u001b[0mmean\u001b[0m\u001b[0;34m,\u001b[0m \u001b[0;36m100\u001b[0m\u001b[0;34m*\u001b[0m\u001b[0mstd\u001b[0m\u001b[0;34m)\u001b[0m\u001b[0;34m)\u001b[0m\u001b[0;34m\u001b[0m\u001b[0;34m\u001b[0m\u001b[0m\n",
      "\u001b[0;31mNameError\u001b[0m: name 'findPocketReturn' is not defined"
     ]
    }
   ],
   "source": [
    "resultDict = {}\n",
    "\n",
    "games = {FairRoulette,EuroRoulette,AmRoullete}\n",
    "numTrials = 20\n",
    "for G in games:\n",
    "    resultDict[G()._str_()] = []\n",
    "for numSpins in (100,1000,10000):\n",
    "    print('\\nSimulate a betting for', numTrials, 'trials of', numSpins, 'spins each')\n",
    "    for G in games:\n",
    "        pocketReturns = findPocketReturn(G(),20,numSpins, False)\n",
    "        mean, std = getMeanAndStd(pocketReturns)\n",
    "        resultDict[G()._str_()].append((numSpins, 100*mean, 100*std))\n",
    "        print('Exp. return for', G(), '=', str(round(100*3,mean) + '%,', '+/-' + str(round(100*1.96*std, 3) + '% with 95% confidence')))"
   ]
  },
  {
   "cell_type": "markdown",
   "metadata": {},
   "source": [
    "Assumptions in calculating the mean and std along with confidence interval by empirical rules:\n",
    "a) The Mean Estimation error is zero\n",
    "b) The distribution of errors in the estimates is normal"
   ]
  },
  {
   "cell_type": "code",
   "execution_count": 50,
   "metadata": {},
   "outputs": [
    {
     "name": "stdout",
     "output_type": "stream",
     "text": [
      "pi = 3.1415711415711414\n"
     ]
    }
   ],
   "source": [
    "#calculating value of pi using Monte Carlo Simulation\n",
    "\n",
    "from random import random\n",
    "from math import pow, sqrt\n",
    "\n",
    "DARTS=1000000\n",
    "hits = 0\n",
    "throws = 0\n",
    "for i in range (1, DARTS):\n",
    "\tthrows += 1\n",
    "\tx = random()\n",
    "\ty = random()\n",
    "\tdist = sqrt(pow(x, 2) + pow(y, 2))\n",
    "\tif dist <= 1.0:\n",
    "\t\thits = hits + 1.0\n",
    "\n",
    "# hits / throws = 1/4 Pi\n",
    "pi = 4 * (hits / throws)\n",
    "\n",
    "print(\"pi = %s\" %(pi))"
   ]
  },
  {
   "cell_type": "code",
   "execution_count": 59,
   "metadata": {},
   "outputs": [
    {
     "name": "stdout",
     "output_type": "stream",
     "text": [
      "The integral from 0 to Pi for Sin X is:  2.016632210705158\n"
     ]
    }
   ],
   "source": [
    "%matplotlib inline\n",
    "from scipy import random\n",
    "import numpy as np\n",
    "import matplotlib.pyplot as plt\n",
    "\n",
    "a = 0\n",
    "b = np.pi\n",
    "\n",
    "N = 1000\n",
    "xrand = np.zeros(N)\n",
    "\n",
    "for i in range(len(xrand)):\n",
    "    xrand[i] = random.uniform(a,b)   #choosing any random number between a and b and assigning it to the ith value of xrand\n",
    "    \n",
    "def func(x):\n",
    "    return np.sin(x)\n",
    "\n",
    "integral = 0.0\n",
    "\n",
    "for i in range(N):\n",
    "    integral += func(xrand[i])\n",
    "    \n",
    "answer = (b-a)/float(N)*integral\n",
    "print(\"The integral from 0 to Pi for Sin X is: \", answer)\n"
   ]
  },
  {
   "cell_type": "code",
   "execution_count": 60,
   "metadata": {},
   "outputs": [
    {
     "ename": "AttributeError",
     "evalue": "module 'matplotlib.pyplot' has no attribute 'xlabels'",
     "output_type": "error",
     "traceback": [
      "\u001b[0;31m---------------------------------------------------------------------------\u001b[0m",
      "\u001b[0;31mAttributeError\u001b[0m                            Traceback (most recent call last)",
      "\u001b[0;32m<ipython-input-60-88ba5c15bc77>\u001b[0m in \u001b[0;36m<module>\u001b[0;34m\u001b[0m\n\u001b[1;32m     20\u001b[0m \u001b[0mplt\u001b[0m\u001b[0;34m.\u001b[0m\u001b[0mtitle\u001b[0m\u001b[0;34m(\u001b[0m\u001b[0;34m'The Distributions of Areas Calculated'\u001b[0m\u001b[0;34m)\u001b[0m\u001b[0;34m\u001b[0m\u001b[0;34m\u001b[0m\u001b[0m\n\u001b[1;32m     21\u001b[0m \u001b[0mplt\u001b[0m\u001b[0;34m.\u001b[0m\u001b[0mhist\u001b[0m\u001b[0;34m(\u001b[0m\u001b[0mareas\u001b[0m\u001b[0;34m,\u001b[0m \u001b[0mbins\u001b[0m\u001b[0;34m=\u001b[0m\u001b[0;36m30\u001b[0m\u001b[0;34m,\u001b[0m \u001b[0mec\u001b[0m\u001b[0;34m=\u001b[0m \u001b[0;34m'black'\u001b[0m\u001b[0;34m)\u001b[0m\u001b[0;34m\u001b[0m\u001b[0;34m\u001b[0m\u001b[0m\n\u001b[0;32m---> 22\u001b[0;31m \u001b[0mplt\u001b[0m\u001b[0;34m.\u001b[0m\u001b[0mxlabels\u001b[0m\u001b[0;34m(\u001b[0m\u001b[0;34m'Areas'\u001b[0m\u001b[0;34m)\u001b[0m\u001b[0;34m\u001b[0m\u001b[0;34m\u001b[0m\u001b[0m\n\u001b[0m",
      "\u001b[0;31mAttributeError\u001b[0m: module 'matplotlib.pyplot' has no attribute 'xlabels'"
     ]
    },
    {
     "data": {
      "image/png": "[encoded data removed]",
      "text/plain": [
       "<Figure size 432x288 with 1 Axes>"
      ]
     },
     "metadata": {
      "needs_background": "light"
     },
     "output_type": "display_data"
    }
   ],
   "source": [
    "areas =[]\n",
    "\n",
    "for i in range(N):\n",
    "    xrand = np.zeros(N)\n",
    "\n",
    "    for i in range(len(xrand)):\n",
    "        xrand[i] = random.uniform(a,b)   #choosing any random number between a and b and assigning it to the ith value of xrand\n",
    "    \n",
    "    def func(x):\n",
    "        return np.sin(x)\n",
    "\n",
    "    integral = 0.0\n",
    "\n",
    "    for i in range(N):\n",
    "        integral += func(xrand[i])\n",
    "    \n",
    "    answer = (b-a)/float(N)*integral\n",
    "    areas.append(answer)\n",
    "\n",
    "plt.title('The Distributions of Areas Calculated')    \n",
    "plt.hist(areas, bins=30, ec= 'black')\n",
    "plt.xlabels('Areas')"
   ]
  },
  {
   "cell_type": "markdown",
   "metadata": {},
   "source": [
    "<font color = \"maroon\"> Conclusion </font>\n",
    "1. Monte Carlo Method Deals with taking random samples, from distribution of a variable in order to supply a series of values for use in the model\n",
    "2. Monte carlo methods are stochastic\n",
    "3. It is often used to solve stochastic problems to mimic randomness of physical behavior"
   ]
  },
  {
   "cell_type": "code",
   "execution_count": null,
   "metadata": {},
   "outputs": [],
   "source": []
  }
 ],
 "metadata": {
  "kernelspec": {
   "display_name": "Python 3",
   "language": "python",
   "name": "python3"
  },
  "language_info": {
   "codemirror_mode": {
    "name": "ipython",
    "version": 3
   },
   "file_extension": ".py",
   "mimetype": "text/x-python",
   "name": "python",
   "nbconvert_exporter": "python",
   "pygments_lexer": "ipython3",
   "version": "3.7.2"
  }
 },
 "nbformat": 4,
 "nbformat_minor": 2
}
